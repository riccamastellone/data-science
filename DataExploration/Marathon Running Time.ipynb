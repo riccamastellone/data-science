{
 "cells": [
  {
   "cell_type": "markdown",
   "metadata": {},
   "source": [
    "# Simple Regression\n",
    "Goal: Predicting Matathon Running Time from Age"
   ]
  },
  {
   "cell_type": "code",
   "execution_count": 51,
   "metadata": {
    "collapsed": false
   },
   "outputs": [],
   "source": [
    "# Load libraries\n",
    "import pandas as pd\n",
    "import numpy as np\n",
    "import matplotlib.pyplot as plt\n",
    "%matplotlib inline"
   ]
  },
  {
   "cell_type": "code",
   "execution_count": 52,
   "metadata": {
    "collapsed": false
   },
   "outputs": [
    {
     "name": "stdout",
     "output_type": "stream",
     "text": [
      "<class 'pandas.core.frame.DataFrame'>\n",
      "RangeIndex: 1391 entries, 0 to 1390\n",
      "Data columns (total 11 columns):\n",
      "Rank                  1391 non-null int64\n",
      "Bib                   1391 non-null int64\n",
      "LastName              1391 non-null object\n",
      "FirstName             1391 non-null object\n",
      "Team                  1391 non-null object\n",
      "Nationality           1391 non-null object\n",
      "Category              1391 non-null object\n",
      "PositionInCategory    1391 non-null int64\n",
      "PositionInGenre       1391 non-null int64\n",
      "OfficialTime          1391 non-null object\n",
      "Delay                 1391 non-null object\n",
      "dtypes: int64(4), object(7)\n",
      "memory usage: 119.6+ KB\n"
     ]
    }
   ],
   "source": [
    "# Load the dataset\n",
    "df = pd.read_csv('input/marathon.csv')\n",
    "df.info()"
   ]
  },
  {
   "cell_type": "code",
   "execution_count": 53,
   "metadata": {
    "collapsed": false
   },
   "outputs": [],
   "source": [
    "# Analyzing dataset structure\n"
   ]
  },
  {
   "cell_type": "code",
   "execution_count": 54,
   "metadata": {
    "collapsed": false
   },
   "outputs": [],
   "source": [
    "# Sample"
   ]
  },
  {
   "cell_type": "markdown",
   "metadata": {},
   "source": [
    "# Preprocessing\n",
    "Create more interesting variables"
   ]
  },
  {
   "cell_type": "code",
   "execution_count": 55,
   "metadata": {
    "collapsed": false
   },
   "outputs": [],
   "source": [
    "def Genre(category):\n",
    "    '''Computes the genre from the FIDAL running category\n",
    "    http://www.fidal.it/content/Le-categorie-di-tesseramento-atleti/49913\n",
    "    '''\n",
    "   "
   ]
  },
  {
   "cell_type": "code",
   "execution_count": 56,
   "metadata": {
    "collapsed": false
   },
   "outputs": [],
   "source": [
    "def Age(category):\n",
    "    '''Computes the age from the FIDAL running category\n",
    "    http://www.fidal.it/content/Le-categorie-di-tesseramento-atleti/49913\n",
    "    '''\n"
   ]
  },
  {
   "cell_type": "code",
   "execution_count": 57,
   "metadata": {
    "collapsed": true
   },
   "outputs": [],
   "source": [
    "def MaxAge(category):\n",
    "    '''Computes the upper bound to runner's age from the FIDAL running category\n",
    "    http://www.fidal.it/content/Le-categorie-di-tesseramento-atleti/49913\n",
    "    '''\n"
   ]
  },
  {
   "cell_type": "code",
   "execution_count": 58,
   "metadata": {
    "collapsed": true
   },
   "outputs": [],
   "source": [
    "def ConvertTimeToSeconds(time_string):\n",
    "    '''Computes the running time from hh:mm:ss format'''\n"
   ]
  },
  {
   "cell_type": "code",
   "execution_count": 59,
   "metadata": {
    "collapsed": true
   },
   "outputs": [],
   "source": [
    "def ConvertDelay(dt):\n",
    "    '''Computes the delay from the first runner time from +hh:mm:ss format'''\n",
    "    return ConvertTimeToSeconds(str(dt)[1:])"
   ]
  },
  {
   "cell_type": "code",
   "execution_count": 60,
   "metadata": {
    "collapsed": true
   },
   "outputs": [],
   "source": [
    "def PreprocessRunnersStats(df, distance=42.198):\n",
    "    cdf = df\n",
    "    cdf['Age'] = cdf['Category'].apply(Age)\n",
    "    cdf['MaxAge'] = cdf['Category'].apply(MaxAge)\n",
    "    cdf['Genre'] = cdf['Category'].apply(Genre)\n",
    "    cdf['TimeInSeconds'] = cdf['OfficialTime'].apply(ConvertTimeToSeconds)\n",
    "    cdf['TimeInHours'] = cdf['TimeInSeconds']/3600.0\n",
    "    cdf['MinutesPerKm'] = (cdf['TimeInSeconds']/60.0)/distance\n",
    "    cdf['DelayInSeconds'] = cdf['Delay'].apply(ConvertDelay)\n",
    "    return cdf"
   ]
  },
  {
   "cell_type": "code",
   "execution_count": 61,
   "metadata": {
    "collapsed": false
   },
   "outputs": [],
   "source": [
    "# Apply \n"
   ]
  },
  {
   "cell_type": "markdown",
   "metadata": {},
   "source": [
    "First, we plot the raw data to get an idea of what we are dealing with."
   ]
  },
  {
   "cell_type": "code",
   "execution_count": 62,
   "metadata": {
    "collapsed": false
   },
   "outputs": [
    {
     "data": {
      "text/plain": [
       "<matplotlib.text.Text at 0x113937250>"
      ]
     },
     "execution_count": 62,
     "metadata": {},
     "output_type": "execute_result"
    },
    {
     "data": {
      "image/png": "[encoded data removed]",
      "text/plain": [
       "<matplotlib.figure.Figure at 0x113d98690>"
      ]
     },
     "metadata": {},
     "output_type": "display_data"
    }
   ],
   "source": [
    "# Plot\n",
    "plt.xlabel(\"Age (Years)\")\n",
    "plt.ylabel(\"Final Time (Hours)\")\n"
   ]
  },
  {
   "cell_type": "markdown",
   "metadata": {},
   "source": [
    "The points are aligned based on age groups for instance, all the data for runners between 35 and 39 appears on the same line since the marathon registration cluster runners in such classes. More information about the age categories are available at, http://www.fidal.it/content/Le-categorie-di-tesseramento-atleti/49913\n",
    "\n",
    "These points cannot be used for ordinary least square linear regression since of the same input x we have multiple outputs. So for the very first analysis we compute the average running time and try to build a model that predicts that value. For this purpose, we use a function that given the data computes several statistics."
   ]
  },
  {
   "cell_type": "code",
   "execution_count": 63,
   "metadata": {
    "collapsed": true
   },
   "outputs": [],
   "source": [
    "def ComputeStats(df, target):\n",
    "\n",
    "    age = []\n",
    "    q1 = []\n",
    "    q2 = []\n",
    "    q3 = []\n",
    "    avg = []\n",
    "    stddev = []\n",
    "    stderr = []\n",
    "\n",
    "    unique_age = sorted(df['Age'].unique())\n",
    "\n",
    "    for a in unique_age:\n",
    "        # selected data\n",
    "        sd = np.array(df[df['Age']==a][target])\n",
    "\n",
    "        age.append(a)\n",
    "        q1.append(np.percentile(sd,25))\n",
    "        q2.append(np.percentile(sd, 50))\n",
    "        q3.append(np.percentile(sd, 75))\n",
    "        avg.append(np.average(sd))\n",
    "        stddev.append(np.std(sd))\n",
    "        stderr.append(np.std(sd)/len(sd))\n",
    "        \n",
    "    return pd.DataFrame({'Age':age, 'FirstQuartile':q1, 'SecondQuartile':q2, 'ThirdQuartile':q3, 'Average':avg, 'StdDev':stddev, 'StdErr':stderr})\n"
   ]
  },
  {
   "cell_type": "code",
   "execution_count": 64,
   "metadata": {
    "collapsed": false
   },
   "outputs": [],
   "source": [
    "# Apply ComputeStats\n"
   ]
  },
  {
   "cell_type": "markdown",
   "metadata": {},
   "source": [
    "Let's plot the average running time."
   ]
  },
  {
   "cell_type": "code",
   "execution_count": 65,
   "metadata": {
    "collapsed": false
   },
   "outputs": [
    {
     "data": {
      "text/plain": [
       "<matplotlib.text.Text at 0x113aca510>"
      ]
     },
     "execution_count": 65,
     "metadata": {},
     "output_type": "execute_result"
    },
    {
     "data": {
      "image/png": "[encoded data removed]",
      "text/plain": [
       "<matplotlib.figure.Figure at 0x1137ab2d0>"
      ]
     },
     "metadata": {},
     "output_type": "display_data"
    }
   ],
   "source": [
    "# Plot average time\n",
    "plt.xlabel(\"Age (Years)\")\n",
    "plt.ylabel(\"Average Running Time (Hours)\")\n"
   ]
  },
  {
   "cell_type": "markdown",
   "metadata": {},
   "source": [
    "## Enriching Data with Domain Knowledge\n",
    "We know that the age categories group together people of different ages. For example, SM_35 is associated to males between the are of 35 and 40 excluded. Thus, the data we plotted at the beginning are not a correct representation of our data. We can insert what we know about the age groups to the training data. We modify the age of individuals by randomly generating an age from the corresponding interval. For instance, we substitute an age of 35 with a random age selected between 35 and 40 (excluded)."
   ]
  },
  {
   "cell_type": "code",
   "execution_count": 66,
   "metadata": {
    "collapsed": false
   },
   "outputs": [],
   "source": [
    "import random \n",
    "\n",
    "def JitterAge(age):\n",
    "    if (age>=35):\n",
    "        return age + random.uniform(0,5)\n",
    "    if (age==20):\n",
    "        return age + random.uniform(0,2)\n",
    "    if (age==23):\n",
    "        return age + random.uniform(0,12)\n",
    "    \n",
    "# Apply to age"
   ]
  },
  {
   "cell_type": "code",
   "execution_count": 67,
   "metadata": {
    "collapsed": false
   },
   "outputs": [
    {
     "data": {
      "text/plain": [
       "<matplotlib.text.Text at 0x11430ed50>"
      ]
     },
     "execution_count": 67,
     "metadata": {},
     "output_type": "execute_result"
    },
    {
     "data": {
      "image/png": "[encoded data removed]",
      "text/plain": [
       "<matplotlib.figure.Figure at 0x113accbd0>"
      ]
     },
     "metadata": {},
     "output_type": "display_data"
    }
   ],
   "source": [
    "# Plot\n",
    "plt.xlabel(\"Age (Years)\")\n",
    "plt.ylabel(\"Final Time (Hours)\")\n",
    "\n"
   ]
  },
  {
   "cell_type": "code",
   "execution_count": null,
   "metadata": {
    "collapsed": true
   },
   "outputs": [],
   "source": []
  }
 ],
 "metadata": {
  "kernelspec": {
   "display_name": "Python 2",
   "language": "python",
   "name": "python2"
  },
  "language_info": {
   "codemirror_mode": {
    "name": "ipython",
    "version": 2
   },
   "file_extension": ".py",
   "mimetype": "text/x-python",
   "name": "python",
   "nbconvert_exporter": "python",
   "pygments_lexer": "ipython2",
   "version": "2.7.13"
  }
 },
 "nbformat": 4,
 "nbformat_minor": 0
}
