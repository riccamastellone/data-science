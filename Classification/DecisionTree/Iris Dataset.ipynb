{
 "cells": [
  {
   "cell_type": "markdown",
   "metadata": {},
   "source": [
    "# Decision Boundaries of Decision Trees\n",
    "Each internal node of a decision tree test the value of an attribute and thus split the problem space into separate areas. Leaves assign a label to areas of the problem space. Let's explore this concept using the Iris data set using only two features at a time so that we can plot the decision boundaries on a two dimensional plane."
   ]
  },
  {
   "cell_type": "code",
   "execution_count": 17,
   "metadata": {
    "collapsed": false
   },
   "outputs": [],
   "source": [
    "import numpy as np\n",
    "import matplotlib\n",
    "import matplotlib.pyplot as plt\n",
    "\n",
    "from sklearn.datasets import load_iris\n",
    "from sklearn.tree import DecisionTreeClassifier\n",
    "from sklearn import model_selection, metrics, tree\n",
    "from sklearn.metrics import confusion_matrix\n",
    "import pydotplus\n",
    "\n",
    "%matplotlib inline\n",
    "%config InlineBackend.figure_format = 'retina'\n",
    "from IPython.display import Image \n",
    "from scipy import misc"
   ]
  },
  {
   "cell_type": "markdown",
   "metadata": {},
   "source": [
    "Now for every pair of variables, we generate a decision tree and then we plot the decision surface."
   ]
  },
  {
   "cell_type": "code",
   "execution_count": 23,
   "metadata": {
    "collapsed": false
   },
   "outputs": [],
   "source": [
    "# Load data\n",
    "iris = load_iris()\n",
    "\n",
    "# Split train/test\n",
    "train_x, test_x, train_y, test_y = model_selection.train_test_split(iris.data, iris.target, test_size=0.33, random_state=42)\n",
    "\n"
   ]
  },
  {
   "cell_type": "markdown",
   "metadata": {
    "collapsed": true
   },
   "source": [
    "# Classification and Tree visualization"
   ]
  },
  {
   "cell_type": "code",
   "execution_count": 20,
   "metadata": {
    "collapsed": false
   },
   "outputs": [
    {
     "name": "stdout",
     "output_type": "stream",
     "text": [
      "Accuracy = 0.98\n",
      "Precision = 0.98\n"
     ]
    }
   ],
   "source": [
    "model = DecisionTreeClassifier(max_depth=10, random_state = 42)\n",
    "model = model.fit(train_x,train_y)\n",
    "\n",
    "yp = model.predict(test_x)\n",
    "print (\"Accuracy = %3.2f\" %  metrics.accuracy_score(y_pred=yp, y_true=test_y) )\n",
    "print (\"Precision = %3.2f\" %  metrics.f1_score(y_pred=yp, y_true=test_y,average='weighted') )"
   ]
  },
  {
   "cell_type": "code",
   "execution_count": null,
   "metadata": {
    "collapsed": true
   },
   "outputs": [],
   "source": []
  }
 ],
 "metadata": {
  "kernelspec": {
   "display_name": "Python 2",
   "language": "python",
   "name": "python2"
  },
  "language_info": {
   "codemirror_mode": {
    "name": "ipython",
    "version": 2
   },
   "file_extension": ".py",
   "mimetype": "text/x-python",
   "name": "python",
   "nbconvert_exporter": "python",
   "pygments_lexer": "ipython2",
   "version": "2.7.13"
  }
 },
 "nbformat": 4,
 "nbformat_minor": 0
}
