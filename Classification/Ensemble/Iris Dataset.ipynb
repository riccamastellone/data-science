{
 "cells": [
  {
   "cell_type": "markdown",
   "metadata": {},
   "source": [
    "# Ensembles classifiers using trees on the Iris Dataset\n",
    "\n",
    "In this notebook we apply several ensemble methods to the Iris dataset using tree classifiers and plot the resulting decision surfaces. Note that this notebook has been created using the material from http://scikit-learn.org/stable/modules/ensemble.html\n",
    "\n",
    "First we load all the required libraries."
   ]
  },
  {
   "cell_type": "code",
   "execution_count": 7,
   "metadata": {
    "collapsed": true
   },
   "outputs": [],
   "source": [
    "import numpy as np\n",
    "import matplotlib.pyplot as plt\n",
    "\n",
    "# Constructs a new estimator with the same parameters.\n",
    "# Clone does a deep copy of the model in an estimator \n",
    "# without actually copying attached data. It yields a \n",
    "# new estimator with the same parameters that has not \n",
    "# been fit on any data.\n",
    "from sklearn import clone \n",
    "\n",
    "from sklearn.datasets import load_iris\n",
    "from sklearn.ensemble import (RandomForestClassifier, AdaBoostClassifier,BaggingClassifier)\n",
    "from sklearn.model_selection import StratifiedKFold\n",
    "from sklearn.model_selection import cross_val_score\n",
    "from sklearn.tree import DecisionTreeClassifier\n",
    "\n",
    "%matplotlib inline\n",
    "%config InlineBackend.figure_format = 'retina'"
   ]
  },
  {
   "cell_type": "markdown",
   "metadata": {},
   "source": [
    "Next we define some of the parameters required to run the experiments like the number of estimators used in each ensembles and the random seed to be able to reproduce the results."
   ]
  },
  {
   "cell_type": "code",
   "execution_count": 8,
   "metadata": {
    "collapsed": true
   },
   "outputs": [],
   "source": [
    "# Set the random seed to be able to repeat the experiment\n",
    "random_seed = 42 "
   ]
  },
  {
   "cell_type": "markdown",
   "metadata": {},
   "source": [
    "Load the dataset"
   ]
  },
  {
   "cell_type": "code",
   "execution_count": 9,
   "metadata": {
    "collapsed": true
   },
   "outputs": [],
   "source": [
    "iris = load_iris()"
   ]
  },
  {
   "cell_type": "markdown",
   "metadata": {},
   "source": [
    "Set the models to be compared\n",
    "- Simple Decision Tree\n",
    "- Bagging\n",
    "- Random Forest\n",
    "- AdaBoost"
   ]
  },
  {
   "cell_type": "code",
   "execution_count": 10,
   "metadata": {
    "collapsed": true
   },
   "outputs": [],
   "source": [
    "models = {'Decision Tree':DecisionTreeClassifier(),\n",
    "          'Bagging':BaggingClassifier(DecisionTreeClassifier()),\n",
    "          'Random Forest':RandomForestClassifier(),\n",
    "          'Ada Boost':AdaBoostClassifier(DecisionTreeClassifier())}"
   ]
  },
  {
   "cell_type": "markdown",
   "metadata": {},
   "source": [
    "For each model, we apply 10-fold stratified crossvalidation and compute the average accuracy and the corresponding standard deviation"
   ]
  },
  {
   "cell_type": "code",
   "execution_count": 11,
   "metadata": {
    "collapsed": false
   },
   "outputs": [],
   "source": [
    "scores = {}\n",
    "for pair in ([0, 1], [0, 2], [2, 3]):\n",
    "    for model_name in models:\n",
    "        # We only take the two corresponding features\n",
    "        X = iris.data[:, pair]\n",
    "        y = iris.target\n",
    "\n",
    "        clf = models[model_name];\n",
    "        score = cross_val_score(clf,X,y,cv=StratifiedKFold(n_splits=10,shuffle=True,random_state=random_seed))\n",
    "        scores[(model_name,str(pair))]=(np.average(score),np.std(score))"
   ]
  },
  {
   "cell_type": "markdown",
   "metadata": {},
   "source": [
    "Then, we print for every variable pair the performance of all the models"
   ]
  },
  {
   "cell_type": "code",
   "execution_count": 12,
   "metadata": {
    "collapsed": false
   },
   "outputs": [
    {
     "name": "stdout",
     "output_type": "stream",
     "text": [
      "Attributes:  sepal length (cm)  &  sepal width (cm)\n",
      "\t                   Bagging\t0.713 +/- 0.085\n",
      "\t                 Ada Boost\t0.693 +/- 0.112\n",
      "\t             Random Forest\t0.733 +/- 0.094\n",
      "\t             Decision Tree\t0.660 +/- 0.092\n",
      "\n",
      "\n",
      "Attributes:  sepal length (cm)  &  petal length (cm)\n",
      "\t                   Bagging\t0.940 +/- 0.047\n",
      "\t                 Ada Boost\t0.913 +/- 0.052\n",
      "\t             Random Forest\t0.927 +/- 0.055\n",
      "\t             Decision Tree\t0.913 +/- 0.052\n",
      "\n",
      "\n",
      "Attributes:  petal length (cm)  &  petal width (cm)\n",
      "\t                   Bagging\t0.947 +/- 0.050\n",
      "\t                 Ada Boost\t0.960 +/- 0.033\n",
      "\t             Random Forest\t0.973 +/- 0.044\n",
      "\t             Decision Tree\t0.947 +/- 0.040\n",
      "\n",
      "\n"
     ]
    }
   ],
   "source": [
    "for pair in ([0, 1], [0, 2], [2, 3]):\n",
    "    print 'Attributes: ',iris.feature_names[pair[0]],' & ',iris.feature_names[pair[1]]\n",
    "    for model_name in models:\n",
    "        print '\\t%26s\\t%.3f +/- %.3f'%(model_name,scores[(model_name,str(pair))][0],scores[(model_name,str(pair))][1])\n",
    "    print('\\n')"
   ]
  }
 ],
 "metadata": {
  "kernelspec": {
   "display_name": "Python 2",
   "language": "python",
   "name": "python2"
  },
  "language_info": {
   "codemirror_mode": {
    "name": "ipython",
    "version": 2
   },
   "file_extension": ".py",
   "mimetype": "text/x-python",
   "name": "python",
   "nbconvert_exporter": "python",
   "pygments_lexer": "ipython2",
   "version": "2.7.13"
  }
 },
 "nbformat": 4,
 "nbformat_minor": 0
}
