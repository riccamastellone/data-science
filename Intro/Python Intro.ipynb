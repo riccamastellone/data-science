{
 "cells": [
  {
   "cell_type": "markdown",
   "metadata": {},
   "source": [
    "# Python intro"
   ]
  },
  {
   "cell_type": "code",
   "execution_count": 1,
   "metadata": {
    "collapsed": false
   },
   "outputs": [
    {
     "name": "stdout",
     "output_type": "stream",
     "text": [
      "hello world\n"
     ]
    }
   ],
   "source": [
    "# Starting from the basics\n",
    "\n",
    "# Differency Python 2 & 3, in version 3 some_variable \n",
    "# is an object and not a statement\n",
    "\n",
    "some_variable = 'hello world'\n",
    "print some_variable"
   ]
  },
  {
   "cell_type": "code",
   "execution_count": 2,
   "metadata": {
    "collapsed": false
   },
   "outputs": [
    {
     "data": {
      "text/plain": [
       "float"
      ]
     },
     "execution_count": 2,
     "metadata": {},
     "output_type": "execute_result"
    }
   ],
   "source": [
    "# Dinamically typed\n",
    "some_variable = 42.0\n",
    "type(some_variable)"
   ]
  },
  {
   "cell_type": "code",
   "execution_count": 3,
   "metadata": {
    "collapsed": false
   },
   "outputs": [
    {
     "name": "stdout",
     "output_type": "stream",
     "text": [
      "2\n",
      "5\n",
      "20\n"
     ]
    }
   ],
   "source": [
    "# Mathematical operators are similar\n",
    "# to other languages\n",
    "print 1 + 1\n",
    "print 10 / 2\n",
    "print 10 * 2"
   ]
  },
  {
   "cell_type": "code",
   "execution_count": 4,
   "metadata": {
    "collapsed": false
   },
   "outputs": [
    {
     "data": {
      "text/plain": [
       "0"
      ]
     },
     "execution_count": 4,
     "metadata": {},
     "output_type": "execute_result"
    }
   ],
   "source": [
    "# Difference Python 2 & 3: the division operand\n",
    "# Solution: import division from __future__\n",
    "\n",
    "1 / 2"
   ]
  },
  {
   "cell_type": "code",
   "execution_count": 6,
   "metadata": {
    "collapsed": false
   },
   "outputs": [
    {
     "data": {
      "text/plain": [
       "4449912944"
      ]
     },
     "execution_count": 6,
     "metadata": {},
     "output_type": "execute_result"
    }
   ],
   "source": [
    "# Everything in an object (and has an unique identifier)\n",
    "a = 'hello'\n",
    "id(a)"
   ]
  },
  {
   "cell_type": "code",
   "execution_count": 12,
   "metadata": {
    "collapsed": false
   },
   "outputs": [
    {
     "data": {
      "text/plain": [
       "'HELLO'"
      ]
     },
     "execution_count": 12,
     "metadata": {},
     "output_type": "execute_result"
    }
   ],
   "source": [
    "# Being objects, they can have methods\n",
    "a.upper()"
   ]
  },
  {
   "cell_type": "code",
   "execution_count": 10,
   "metadata": {
    "collapsed": false
   },
   "outputs": [
    {
     "data": {
      "text/plain": [
       "'hello world'"
      ]
     },
     "execution_count": 10,
     "metadata": {},
     "output_type": "execute_result"
    }
   ],
   "source": [
    "# But, what is an object?\n",
    "# An object is an istance of a class\n",
    "# ( Note: Python attributes all public )\n",
    "class MyClass:\n",
    "    \"\"\"A simple example class\"\"\"\n",
    "    i = 12345\n",
    "\n",
    "    def f(self):\n",
    "        return 'hello world'\n",
    "\n",
    "x = MyClass()\n",
    "x.f()"
   ]
  },
  {
   "cell_type": "code",
   "execution_count": 11,
   "metadata": {
    "collapsed": false
   },
   "outputs": [
    {
     "name": "stdout",
     "output_type": "stream",
     "text": [
      "42\n",
      "Nope\n"
     ]
    }
   ],
   "source": [
    "# Function\n",
    "def some_function(parameter):\n",
    "    if (type(parameter) is int):\n",
    "        print parameter + 1\n",
    "    else:\n",
    "        print 'Nope'\n",
    "        \n",
    "some_function(41)\n",
    "some_function('41')\n",
    "\n",
    "# ( NOTE: function arguments passed by assignment in Python! )"
   ]
  },
  {
   "cell_type": "code",
   "execution_count": 13,
   "metadata": {
    "collapsed": false
   },
   "outputs": [
    {
     "name": "stdout",
     "output_type": "stream",
     "text": [
      "4450037912\n",
      "4450037912\n",
      "140214404168856\n",
      "140214404168832\n"
     ]
    }
   ],
   "source": [
    "# There are Mutable (Dictionary, Lists) and \n",
    "# Immutable (Tuple, String, Integer) objects\n",
    "\n",
    "a = [1,2,3]\n",
    "print id(a) \n",
    "\n",
    "a.append(4)\n",
    "print id(a)  # Mutable: same id!\n",
    "\n",
    "a = 42 \n",
    "print id(a) \n",
    "\n",
    "a = a + 1\n",
    "print id(a)  # Immutable: different id!"
   ]
  },
  {
   "cell_type": "code",
   "execution_count": 14,
   "metadata": {
    "collapsed": false
   },
   "outputs": [
    {
     "name": "stdout",
     "output_type": "stream",
     "text": [
      "42\n",
      "42\n",
      "42\n"
     ]
    }
   ],
   "source": [
    "# Sequences: List, Tuples, Dictionaries\n",
    "this_is_a_list = [1,2,42] # Mutable\n",
    "this_is_a_tuple = (1,2,42) # Immutable\n",
    "this_is_a_dictionary = {'some_key' : 42}\n",
    "\n",
    "# Accessing and element\n",
    "print this_is_a_list[2] \n",
    "print this_is_a_tuple[2] \n",
    "print this_is_a_dictionary['some_key'] "
   ]
  },
  {
   "cell_type": "code",
   "execution_count": 15,
   "metadata": {
    "collapsed": false
   },
   "outputs": [
    {
     "name": "stdout",
     "output_type": "stream",
     "text": [
      "True\n",
      "False\n"
     ]
    }
   ],
   "source": [
    "# Booleans\n",
    "\n",
    "print 'some_key' in this_is_a_dictionary\n",
    "print 'some_other_key' in this_is_a_dictionary"
   ]
  }
 ],
 "metadata": {
  "kernelspec": {
   "display_name": "Python 2",
   "language": "python",
   "name": "python2"
  },
  "language_info": {
   "codemirror_mode": {
    "name": "ipython",
    "version": 2
   },
   "file_extension": ".py",
   "mimetype": "text/x-python",
   "name": "python",
   "nbconvert_exporter": "python",
   "pygments_lexer": "ipython2",
   "version": "2.7.13"
  }
 },
 "nbformat": 4,
 "nbformat_minor": 2
}
